{
  "nbformat": 4,
  "nbformat_minor": 0,
  "metadata": {
    "colab": {
      "name": "data4cs.ipynb",
      "provenance": [],
      "collapsed_sections": [],
      "authorship_tag": "ABX9TyP6xn+TadsUJnBX3cLaJGID",
      "include_colab_link": true
    },
    "kernelspec": {
      "name": "python3",
      "display_name": "Python 3"
    },
    "language_info": {
      "name": "python"
    }
  },
  "cells": [
    {
      "cell_type": "markdown",
      "metadata": {
        "id": "view-in-github",
        "colab_type": "text"
      },
      "source": [
        "<a href=\"https://colab.research.google.com/github/HiroakiMorita/data4cs_research/blob/main/data4cs.ipynb\" target=\"_parent\"><img src=\"https://colab.research.google.com/assets/colab-badge.svg\" alt=\"Open In Colab\"/></a>"
      ]
    },
    {
      "cell_type": "code",
      "metadata": {
        "id": "zhYwgC2LHw2Y"
      },
      "source": [
        "import requests\n",
        "from bs4 import BeautifulSoup # HTMLファイルから情報を抜き出す\n",
        "import matplotlib.pyplot as plt\n",
        "import collections # リストやイテレータからすべての値の出現回数をカウント\n",
        "from wordcloud import WordCloud # wordを可視化する\n",
        "import MeCab # 自然言語処理で必要 \n",
        "import pandas as pd\n",
        "import time\n",
        "import matplotlib.pyplot as plt"
      ],
      "execution_count": 6,
      "outputs": []
    },
    {
      "cell_type": "markdown",
      "metadata": {
        "id": "zUXSF-wZI7b3"
      },
      "source": [
        "### サイトからスクレイピングする"
      ]
    },
    {
      "cell_type": "code",
      "metadata": {
        "id": "IF9MS1r0IjA2"
      },
      "source": [
        "site_concept = requests.get('https://www.data4cs.co.jp/#/outline-inner')\n",
        "# print(site_concept.text)\n",
        "concept_page = BeautifulSoup(site_concept.text, 'html.parser')\n",
        "# print(concept_page.text)\n",
        "# concept_text = print(concept_page.text)\n",
        "# concept_text"
      ],
      "execution_count": 8,
      "outputs": []
    },
    {
      "cell_type": "code",
      "metadata": {
        "id": "7IsQGMh1JEKe"
      },
      "source": [
        "green_site = requests.get('https://www.green-japan.com/company/755?case=login')\n",
        "# print(green_site.text)\n",
        "green = BeautifulSoup(green_site.text, 'html.parser')\n",
        "# print(green.text)\n",
        "# green_text = print(green.text)\n",
        "# green_text"
      ],
      "execution_count": 10,
      "outputs": []
    },
    {
      "cell_type": "code",
      "metadata": {
        "id": "6rzUz8EEJPVA"
      },
      "source": [
        "interview_site_2019_1 = requests.get('https://www.data4cs.co.jp/recruit/interview/1137')\n",
        "# print(interview_site_2019_1.text)\n",
        "interview_2019_1 = BeautifulSoup(interview_site_2019_1.text, 'html.parser')\n",
        "# interview_2019_1_text = print(interview_2019_1.text)"
      ],
      "execution_count": 12,
      "outputs": []
    },
    {
      "cell_type": "code",
      "metadata": {
        "id": "geoIJ6UVJXir"
      },
      "source": [
        "interview_site_2019_2 = requests.get('https://www.data4cs.co.jp/recruit/interview/1250')\n",
        "# print(interview_site_2019_2.text)\n",
        "interview_2019_2 = BeautifulSoup(interview_site_2019_2.text, 'html.parser')\n",
        "# print(interview_2019_2.text)\n",
        "# interview_2019_2_text = print(interview_2019_2.text)"
      ],
      "execution_count": 14,
      "outputs": []
    },
    {
      "cell_type": "markdown",
      "metadata": {
        "id": "EuXZmxVBJdjh"
      },
      "source": [
        "### MeCabをインスタンス化"
      ]
    },
    {
      "cell_type": "code",
      "metadata": {
        "id": "puxtwtNOJa3Y"
      },
      "source": [
        "mecab = MeCab.Tagger(\"-Owakati\")"
      ],
      "execution_count": 17,
      "outputs": []
    },
    {
      "cell_type": "markdown",
      "metadata": {
        "id": "_hBJg22jJzRM"
      },
      "source": [
        "### スクレイピングした情報を自然言語処理で解析し、名詞のみを頻出度が多い順に抽出"
      ]
    },
    {
      "cell_type": "code",
      "metadata": {
        "colab": {
          "base_uri": "https://localhost:8080/"
        },
        "id": "KnOLuiNEJgdc",
        "outputId": "401a675d-37d2-4795-b982-86d204402c0c"
      },
      "source": [
        "green_text = green.text\n",
        "\n",
        "keyword_green_text = mecab.parseToNode(green_text)\n",
        "\n",
        "words_green_text = []\n",
        "while keyword_green_text:\n",
        "    #単語を取得\n",
        "    word = keyword_green_text.surface\n",
        "    #品詞を取得\n",
        "    pos = keyword_green_text.feature.split(\",\")[0]\n",
        "    if pos == '名詞':\n",
        "        words_green_text.append(word)\n",
        "#     print('{0}'.format(word))\n",
        "    #次の単語に進める\n",
        "    keyword_green_text = keyword_green_text.next\n",
        "    \n",
        "c = collections.Counter(words_green_text)\n",
        "print(c.most_common(30))"
      ],
      "execution_count": 18,
      "outputs": [
        {
          "output_type": "stream",
          "text": [
            "[('データ', 127), ('解析', 52), ('企業', 39), ('会社', 38), ('株式', 32), ('分野', 28), ('こと', 27), ('サイエンス', 24), ('万', 24), ('円', 24), ('トップ', 23), ('スペシャリスト', 23), ('集団', 23), ('フォー', 21), ('シーズ', 21), ('業務', 21), ('求人', 19), ('情報', 17), ('マイニング', 17), ('サイエンティスト', 17), ('プロジェクト', 17), ('成長', 14), ('クライアント', 14), ('コンサルティング', 13), ('ビジネス', 13), ('マーケティング', 13), ('転職', 12), ('当社', 12), ('サービス', 12), ('マネジメント', 12)]\n"
          ],
          "name": "stdout"
        }
      ]
    },
    {
      "cell_type": "code",
      "metadata": {
        "colab": {
          "base_uri": "https://localhost:8080/"
        },
        "id": "2RM4QFufJ3Q6",
        "outputId": "f1a87590-8d39-45da-df77-6ddac4d2b1bc"
      },
      "source": [
        "concept_text = concept_page.text\n",
        "\n",
        "keyword_concept_text = mecab.parseToNode(concept_text)\n",
        "\n",
        "words_concept_text = []\n",
        "while keyword_concept_text:\n",
        "    #単語を取得\n",
        "    word = keyword_concept_text.surface\n",
        "    #品詞を取得\n",
        "    pos = keyword_concept_text.feature.split(\",\")[0]\n",
        "    if pos == '名詞':\n",
        "        words_concept_text.append(word)\n",
        "#     print('{0}'.format(word))\n",
        "    #次の単語に進める\n",
        "    keyword_concept_text = keyword_concept_text.next\n",
        "    \n",
        "c = collections.Counter(words_concept_text)\n",
        "print(c.most_common(40))"
      ],
      "execution_count": 19,
      "outputs": [
        {
          "output_type": "stream",
          "text": [
            "[('t', 26), ('データ', 23), ('0', 18), ('supports', 12), ('56128', 12), ('1', 11), ('e', 11), ('a', 11), ('n', 11), ('解析', 11), ('s', 10), ('important', 10), ('r', 9), ('i', 9), ('p', 9), ('function', 8), ('o', 8), ('8203', 8), ('株式', 6), ('会社', 6), ('フォー', 6), ('emoji', 6), ('55356', 6), ('News', 6), ('Data', 6), ('シーズ', 5), ('window', 5), ('4', 5), ('return', 5), ('c', 5), ('everythingExceptFlag', 5), ('予測', 5), ('2', 4), ('wp', 4), ('var', 4), ('flag', 4), ('everything', 4), ('56423', 4), ('none', 4), ('em', 4)]\n"
          ],
          "name": "stdout"
        }
      ]
    },
    {
      "cell_type": "code",
      "metadata": {
        "colab": {
          "base_uri": "https://localhost:8080/"
        },
        "id": "N21iAFCCJ6nb",
        "outputId": "4ee74804-9b07-4089-e236-9582ba274a46"
      },
      "source": [
        "interview_2019_1_text = interview_2019_1.text\n",
        "keyword_interview_2019_1_text = mecab.parseToNode(interview_2019_1_text)\n",
        "\n",
        "words_interview_2019_1_text = []\n",
        "while keyword_interview_2019_1_text:\n",
        "    #単語を取得\n",
        "    word = keyword_interview_2019_1_text.surface\n",
        "    #品詞を取得\n",
        "    pos = keyword_interview_2019_1_text.feature.split(\",\")[0]\n",
        "    if pos == '名詞':\n",
        "        words_interview_2019_1_text.append(word)\n",
        "#     print('{0}'.format(word))\n",
        "    #次の単語に進める\n",
        "    keyword_interview_2019_1_text = keyword_interview_2019_1_text.next\n",
        "    \n",
        "c = collections.Counter(words_interview_2019_1_text)\n",
        "print(c.most_common(40)) "
      ],
      "execution_count": 20,
      "outputs": [
        {
          "output_type": "stream",
          "text": [
            "[('大学', 38), ('こと', 33), ('データ', 31), ('t', 26), ('年', 26), ('1', 21), ('月', 21), ('0', 18), ('サイエンティスト', 16), ('当社', 16), ('興味', 14), ('研究', 13), ('就職', 13), ('説明', 13), ('会', 13), ('supports', 12), ('56128', 12), ('自分', 12), ('参加', 12), ('2', 11), ('e', 11), ('a', 11), ('n', 11), ('博士', 11), ('二', 11), ('企業', 11), ('2019', 10), ('s', 10), ('important', 10), ('合同', 10), ('r', 9), ('i', 9), ('p', 9), ('仕事', 9), ('入社', 9), ('SHOHEI', 9), ('卒業', 9), ('課程', 9), ('ERIKO', 9), ('REINA', 9)]\n"
          ],
          "name": "stdout"
        }
      ]
    },
    {
      "cell_type": "code",
      "metadata": {
        "colab": {
          "base_uri": "https://localhost:8080/"
        },
        "id": "e-xToKyCKANn",
        "outputId": "6b1ec257-791c-4a44-bea1-d309f4bdd06e"
      },
      "source": [
        "interview_2019_2_text = interview_2019_2.text\n",
        "keyword_interview_2019_2_text = mecab.parseToNode(interview_2019_2_text)\n",
        "\n",
        "words_interview_2019_2_text = []\n",
        "while keyword_interview_2019_2_text:\n",
        "    #単語を取得\n",
        "    word = keyword_interview_2019_2_text.surface\n",
        "    #品詞を取得\n",
        "    pos = keyword_interview_2019_2_text.feature.split(\",\")[0]\n",
        "    if pos == '名詞':\n",
        "        words_interview_2019_2_text.append(word)\n",
        "#     print('{0}'.format(word))\n",
        "    #次の単語に進める\n",
        "    keyword_interview_2019_2_text = keyword_interview_2019_2_text.next\n",
        "    \n",
        "c = collections.Counter(words_interview_2019_2_text)\n",
        "print(c.most_common(40)) "
      ],
      "execution_count": 21,
      "outputs": [
        {
          "output_type": "stream",
          "text": [
            "[('こと', 59), ('t', 26), ('自分', 24), ('0', 18), ('1', 16), ('人', 13), ('データ', 12), ('supports', 12), ('56128', 12), ('e', 11), ('a', 11), ('n', 11), ('研修', 11), ('s', 10), ('important', 10), ('年', 10), ('入社', 10), ('2', 9), ('r', 9), ('i', 9), ('p', 9), ('2019', 8), ('会社', 8), ('function', 8), ('o', 8), ('8203', 8), ('ところ', 8), ('勉強', 8), ('new', 7), ('前', 7), ('REINA', 7), ('話', 7), ('研究', 7), ('大学', 7), ('employees', 6), ('emoji', 6), ('4', 6), ('c', 6), ('55356', 6), ('仕事', 6)]\n"
          ],
          "name": "stdout"
        }
      ]
    },
    {
      "cell_type": "code",
      "metadata": {
        "id": "Msn17sQ1KDrt"
      },
      "source": [
        ""
      ],
      "execution_count": null,
      "outputs": []
    }
  ]
}